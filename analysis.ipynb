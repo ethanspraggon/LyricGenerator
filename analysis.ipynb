{
 "cells": [
  {
   "cell_type": "code",
   "execution_count": 2,
   "metadata": {},
   "outputs": [],
   "source": [
    "import numpy as np\n",
    "import pandas as pd\n",
    "from zipfile import ZipFile"
   ]
  },
  {
   "cell_type": "code",
   "execution_count": 3,
   "metadata": {},
   "outputs": [],
   "source": [
    "tracks = pd.DataFrame(columns = ['filename', 'artist_name', 'song_name'])"
   ]
  },
  {
   "cell_type": "code",
   "execution_count": null,
   "metadata": {},
   "outputs": [],
   "source": [
    "filename_list = []\n",
    "dirname_list = []\n",
    "artistname_list = []\n",
    "songname_list = []\n",
    "\n",
    "import os \n",
    "\n",
    "\n",
    "\n"
   ]
  },
  {
   "cell_type": "code",
   "execution_count": 4,
   "metadata": {},
   "outputs": [
    {
     "ename": "FileNotFoundError",
     "evalue": "[Errno 2] No such file or directory: '/kaggle/input/spotify-dataset-19212020-600k-tracks/tracks.csv'",
     "output_type": "error",
     "traceback": [
      "\u001b[0;31m---------------------------------------------------------------------------\u001b[0m",
      "\u001b[0;31mFileNotFoundError\u001b[0m                         Traceback (most recent call last)",
      "Cell \u001b[0;32mIn[4], line 1\u001b[0m\n\u001b[0;32m----> 1\u001b[0m spotify_tracks \u001b[38;5;241m=\u001b[39m \u001b[43mpd\u001b[49m\u001b[38;5;241;43m.\u001b[39;49m\u001b[43mread_csv\u001b[49m\u001b[43m(\u001b[49m\u001b[38;5;124;43m'\u001b[39;49m\u001b[38;5;124;43m/kaggle/input/spotify-dataset-19212020-600k-tracks/tracks.csv\u001b[39;49m\u001b[38;5;124;43m'\u001b[39;49m\u001b[43m)\u001b[49m\n\u001b[1;32m      2\u001b[0m spotify_tracks\n",
      "File \u001b[0;32m~/opt/miniconda3/envs/LyGen/lib/python3.9/site-packages/pandas/io/parsers/readers.py:912\u001b[0m, in \u001b[0;36mread_csv\u001b[0;34m(filepath_or_buffer, sep, delimiter, header, names, index_col, usecols, dtype, engine, converters, true_values, false_values, skipinitialspace, skiprows, skipfooter, nrows, na_values, keep_default_na, na_filter, verbose, skip_blank_lines, parse_dates, infer_datetime_format, keep_date_col, date_parser, date_format, dayfirst, cache_dates, iterator, chunksize, compression, thousands, decimal, lineterminator, quotechar, quoting, doublequote, escapechar, comment, encoding, encoding_errors, dialect, on_bad_lines, delim_whitespace, low_memory, memory_map, float_precision, storage_options, dtype_backend)\u001b[0m\n\u001b[1;32m    <a href='file:///Users/ethanspraggon/opt/miniconda3/envs/LyGen/lib/python3.9/site-packages/pandas/io/parsers/readers.py?line=898'>899</a>\u001b[0m kwds_defaults \u001b[39m=\u001b[39m _refine_defaults_read(\n\u001b[1;32m    <a href='file:///Users/ethanspraggon/opt/miniconda3/envs/LyGen/lib/python3.9/site-packages/pandas/io/parsers/readers.py?line=899'>900</a>\u001b[0m     dialect,\n\u001b[1;32m    <a href='file:///Users/ethanspraggon/opt/miniconda3/envs/LyGen/lib/python3.9/site-packages/pandas/io/parsers/readers.py?line=900'>901</a>\u001b[0m     delimiter,\n\u001b[0;32m   (...)\u001b[0m\n\u001b[1;32m    <a href='file:///Users/ethanspraggon/opt/miniconda3/envs/LyGen/lib/python3.9/site-packages/pandas/io/parsers/readers.py?line=907'>908</a>\u001b[0m     dtype_backend\u001b[39m=\u001b[39mdtype_backend,\n\u001b[1;32m    <a href='file:///Users/ethanspraggon/opt/miniconda3/envs/LyGen/lib/python3.9/site-packages/pandas/io/parsers/readers.py?line=908'>909</a>\u001b[0m )\n\u001b[1;32m    <a href='file:///Users/ethanspraggon/opt/miniconda3/envs/LyGen/lib/python3.9/site-packages/pandas/io/parsers/readers.py?line=909'>910</a>\u001b[0m kwds\u001b[39m.\u001b[39mupdate(kwds_defaults)\n\u001b[0;32m--> <a href='file:///Users/ethanspraggon/opt/miniconda3/envs/LyGen/lib/python3.9/site-packages/pandas/io/parsers/readers.py?line=911'>912</a>\u001b[0m \u001b[39mreturn\u001b[39;00m _read(filepath_or_buffer, kwds)\n",
      "File \u001b[0;32m~/opt/miniconda3/envs/LyGen/lib/python3.9/site-packages/pandas/io/parsers/readers.py:577\u001b[0m, in \u001b[0;36m_read\u001b[0;34m(filepath_or_buffer, kwds)\u001b[0m\n\u001b[1;32m    <a href='file:///Users/ethanspraggon/opt/miniconda3/envs/LyGen/lib/python3.9/site-packages/pandas/io/parsers/readers.py?line=573'>574</a>\u001b[0m _validate_names(kwds\u001b[39m.\u001b[39mget(\u001b[39m\"\u001b[39m\u001b[39mnames\u001b[39m\u001b[39m\"\u001b[39m, \u001b[39mNone\u001b[39;00m))\n\u001b[1;32m    <a href='file:///Users/ethanspraggon/opt/miniconda3/envs/LyGen/lib/python3.9/site-packages/pandas/io/parsers/readers.py?line=575'>576</a>\u001b[0m \u001b[39m# Create the parser.\u001b[39;00m\n\u001b[0;32m--> <a href='file:///Users/ethanspraggon/opt/miniconda3/envs/LyGen/lib/python3.9/site-packages/pandas/io/parsers/readers.py?line=576'>577</a>\u001b[0m parser \u001b[39m=\u001b[39m TextFileReader(filepath_or_buffer, \u001b[39m*\u001b[39;49m\u001b[39m*\u001b[39;49mkwds)\n\u001b[1;32m    <a href='file:///Users/ethanspraggon/opt/miniconda3/envs/LyGen/lib/python3.9/site-packages/pandas/io/parsers/readers.py?line=578'>579</a>\u001b[0m \u001b[39mif\u001b[39;00m chunksize \u001b[39mor\u001b[39;00m iterator:\n\u001b[1;32m    <a href='file:///Users/ethanspraggon/opt/miniconda3/envs/LyGen/lib/python3.9/site-packages/pandas/io/parsers/readers.py?line=579'>580</a>\u001b[0m     \u001b[39mreturn\u001b[39;00m parser\n",
      "File \u001b[0;32m~/opt/miniconda3/envs/LyGen/lib/python3.9/site-packages/pandas/io/parsers/readers.py:1407\u001b[0m, in \u001b[0;36mTextFileReader.__init__\u001b[0;34m(self, f, engine, **kwds)\u001b[0m\n\u001b[1;32m   <a href='file:///Users/ethanspraggon/opt/miniconda3/envs/LyGen/lib/python3.9/site-packages/pandas/io/parsers/readers.py?line=1403'>1404</a>\u001b[0m     \u001b[39mself\u001b[39m\u001b[39m.\u001b[39moptions[\u001b[39m\"\u001b[39m\u001b[39mhas_index_names\u001b[39m\u001b[39m\"\u001b[39m] \u001b[39m=\u001b[39m kwds[\u001b[39m\"\u001b[39m\u001b[39mhas_index_names\u001b[39m\u001b[39m\"\u001b[39m]\n\u001b[1;32m   <a href='file:///Users/ethanspraggon/opt/miniconda3/envs/LyGen/lib/python3.9/site-packages/pandas/io/parsers/readers.py?line=1405'>1406</a>\u001b[0m \u001b[39mself\u001b[39m\u001b[39m.\u001b[39mhandles: IOHandles \u001b[39m|\u001b[39m \u001b[39mNone\u001b[39;00m \u001b[39m=\u001b[39m \u001b[39mNone\u001b[39;00m\n\u001b[0;32m-> <a href='file:///Users/ethanspraggon/opt/miniconda3/envs/LyGen/lib/python3.9/site-packages/pandas/io/parsers/readers.py?line=1406'>1407</a>\u001b[0m \u001b[39mself\u001b[39m\u001b[39m.\u001b[39m_engine \u001b[39m=\u001b[39m \u001b[39mself\u001b[39;49m\u001b[39m.\u001b[39;49m_make_engine(f, \u001b[39mself\u001b[39;49m\u001b[39m.\u001b[39;49mengine)\n",
      "File \u001b[0;32m~/opt/miniconda3/envs/LyGen/lib/python3.9/site-packages/pandas/io/parsers/readers.py:1661\u001b[0m, in \u001b[0;36mTextFileReader._make_engine\u001b[0;34m(self, f, engine)\u001b[0m\n\u001b[1;32m   <a href='file:///Users/ethanspraggon/opt/miniconda3/envs/LyGen/lib/python3.9/site-packages/pandas/io/parsers/readers.py?line=1658'>1659</a>\u001b[0m     \u001b[39mif\u001b[39;00m \u001b[39m\"\u001b[39m\u001b[39mb\u001b[39m\u001b[39m\"\u001b[39m \u001b[39mnot\u001b[39;00m \u001b[39min\u001b[39;00m mode:\n\u001b[1;32m   <a href='file:///Users/ethanspraggon/opt/miniconda3/envs/LyGen/lib/python3.9/site-packages/pandas/io/parsers/readers.py?line=1659'>1660</a>\u001b[0m         mode \u001b[39m+\u001b[39m\u001b[39m=\u001b[39m \u001b[39m\"\u001b[39m\u001b[39mb\u001b[39m\u001b[39m\"\u001b[39m\n\u001b[0;32m-> <a href='file:///Users/ethanspraggon/opt/miniconda3/envs/LyGen/lib/python3.9/site-packages/pandas/io/parsers/readers.py?line=1660'>1661</a>\u001b[0m \u001b[39mself\u001b[39m\u001b[39m.\u001b[39mhandles \u001b[39m=\u001b[39m get_handle(\n\u001b[1;32m   <a href='file:///Users/ethanspraggon/opt/miniconda3/envs/LyGen/lib/python3.9/site-packages/pandas/io/parsers/readers.py?line=1661'>1662</a>\u001b[0m     f,\n\u001b[1;32m   <a href='file:///Users/ethanspraggon/opt/miniconda3/envs/LyGen/lib/python3.9/site-packages/pandas/io/parsers/readers.py?line=1662'>1663</a>\u001b[0m     mode,\n\u001b[1;32m   <a href='file:///Users/ethanspraggon/opt/miniconda3/envs/LyGen/lib/python3.9/site-packages/pandas/io/parsers/readers.py?line=1663'>1664</a>\u001b[0m     encoding\u001b[39m=\u001b[39;49m\u001b[39mself\u001b[39;49m\u001b[39m.\u001b[39;49moptions\u001b[39m.\u001b[39;49mget(\u001b[39m\"\u001b[39;49m\u001b[39mencoding\u001b[39;49m\u001b[39m\"\u001b[39;49m, \u001b[39mNone\u001b[39;49;00m),\n\u001b[1;32m   <a href='file:///Users/ethanspraggon/opt/miniconda3/envs/LyGen/lib/python3.9/site-packages/pandas/io/parsers/readers.py?line=1664'>1665</a>\u001b[0m     compression\u001b[39m=\u001b[39;49m\u001b[39mself\u001b[39;49m\u001b[39m.\u001b[39;49moptions\u001b[39m.\u001b[39;49mget(\u001b[39m\"\u001b[39;49m\u001b[39mcompression\u001b[39;49m\u001b[39m\"\u001b[39;49m, \u001b[39mNone\u001b[39;49;00m),\n\u001b[1;32m   <a href='file:///Users/ethanspraggon/opt/miniconda3/envs/LyGen/lib/python3.9/site-packages/pandas/io/parsers/readers.py?line=1665'>1666</a>\u001b[0m     memory_map\u001b[39m=\u001b[39;49m\u001b[39mself\u001b[39;49m\u001b[39m.\u001b[39;49moptions\u001b[39m.\u001b[39;49mget(\u001b[39m\"\u001b[39;49m\u001b[39mmemory_map\u001b[39;49m\u001b[39m\"\u001b[39;49m, \u001b[39mFalse\u001b[39;49;00m),\n\u001b[1;32m   <a href='file:///Users/ethanspraggon/opt/miniconda3/envs/LyGen/lib/python3.9/site-packages/pandas/io/parsers/readers.py?line=1666'>1667</a>\u001b[0m     is_text\u001b[39m=\u001b[39;49mis_text,\n\u001b[1;32m   <a href='file:///Users/ethanspraggon/opt/miniconda3/envs/LyGen/lib/python3.9/site-packages/pandas/io/parsers/readers.py?line=1667'>1668</a>\u001b[0m     errors\u001b[39m=\u001b[39;49m\u001b[39mself\u001b[39;49m\u001b[39m.\u001b[39;49moptions\u001b[39m.\u001b[39;49mget(\u001b[39m\"\u001b[39;49m\u001b[39mencoding_errors\u001b[39;49m\u001b[39m\"\u001b[39;49m, \u001b[39m\"\u001b[39;49m\u001b[39mstrict\u001b[39;49m\u001b[39m\"\u001b[39;49m),\n\u001b[1;32m   <a href='file:///Users/ethanspraggon/opt/miniconda3/envs/LyGen/lib/python3.9/site-packages/pandas/io/parsers/readers.py?line=1668'>1669</a>\u001b[0m     storage_options\u001b[39m=\u001b[39;49m\u001b[39mself\u001b[39;49m\u001b[39m.\u001b[39;49moptions\u001b[39m.\u001b[39;49mget(\u001b[39m\"\u001b[39;49m\u001b[39mstorage_options\u001b[39;49m\u001b[39m\"\u001b[39;49m, \u001b[39mNone\u001b[39;49;00m),\n\u001b[1;32m   <a href='file:///Users/ethanspraggon/opt/miniconda3/envs/LyGen/lib/python3.9/site-packages/pandas/io/parsers/readers.py?line=1669'>1670</a>\u001b[0m )\n\u001b[1;32m   <a href='file:///Users/ethanspraggon/opt/miniconda3/envs/LyGen/lib/python3.9/site-packages/pandas/io/parsers/readers.py?line=1670'>1671</a>\u001b[0m \u001b[39massert\u001b[39;00m \u001b[39mself\u001b[39m\u001b[39m.\u001b[39mhandles \u001b[39mis\u001b[39;00m \u001b[39mnot\u001b[39;00m \u001b[39mNone\u001b[39;00m\n\u001b[1;32m   <a href='file:///Users/ethanspraggon/opt/miniconda3/envs/LyGen/lib/python3.9/site-packages/pandas/io/parsers/readers.py?line=1671'>1672</a>\u001b[0m f \u001b[39m=\u001b[39m \u001b[39mself\u001b[39m\u001b[39m.\u001b[39mhandles\u001b[39m.\u001b[39mhandle\n",
      "File \u001b[0;32m~/opt/miniconda3/envs/LyGen/lib/python3.9/site-packages/pandas/io/common.py:859\u001b[0m, in \u001b[0;36mget_handle\u001b[0;34m(path_or_buf, mode, encoding, compression, memory_map, is_text, errors, storage_options)\u001b[0m\n\u001b[1;32m    <a href='file:///Users/ethanspraggon/opt/miniconda3/envs/LyGen/lib/python3.9/site-packages/pandas/io/common.py?line=853'>854</a>\u001b[0m \u001b[39melif\u001b[39;00m \u001b[39misinstance\u001b[39m(handle, \u001b[39mstr\u001b[39m):\n\u001b[1;32m    <a href='file:///Users/ethanspraggon/opt/miniconda3/envs/LyGen/lib/python3.9/site-packages/pandas/io/common.py?line=854'>855</a>\u001b[0m     \u001b[39m# Check whether the filename is to be opened in binary mode.\u001b[39;00m\n\u001b[1;32m    <a href='file:///Users/ethanspraggon/opt/miniconda3/envs/LyGen/lib/python3.9/site-packages/pandas/io/common.py?line=855'>856</a>\u001b[0m     \u001b[39m# Binary mode does not support 'encoding' and 'newline'.\u001b[39;00m\n\u001b[1;32m    <a href='file:///Users/ethanspraggon/opt/miniconda3/envs/LyGen/lib/python3.9/site-packages/pandas/io/common.py?line=856'>857</a>\u001b[0m     \u001b[39mif\u001b[39;00m ioargs\u001b[39m.\u001b[39mencoding \u001b[39mand\u001b[39;00m \u001b[39m\"\u001b[39m\u001b[39mb\u001b[39m\u001b[39m\"\u001b[39m \u001b[39mnot\u001b[39;00m \u001b[39min\u001b[39;00m ioargs\u001b[39m.\u001b[39mmode:\n\u001b[1;32m    <a href='file:///Users/ethanspraggon/opt/miniconda3/envs/LyGen/lib/python3.9/site-packages/pandas/io/common.py?line=857'>858</a>\u001b[0m         \u001b[39m# Encoding\u001b[39;00m\n\u001b[0;32m--> <a href='file:///Users/ethanspraggon/opt/miniconda3/envs/LyGen/lib/python3.9/site-packages/pandas/io/common.py?line=858'>859</a>\u001b[0m         handle \u001b[39m=\u001b[39m \u001b[39mopen\u001b[39;49m(\n\u001b[1;32m    <a href='file:///Users/ethanspraggon/opt/miniconda3/envs/LyGen/lib/python3.9/site-packages/pandas/io/common.py?line=859'>860</a>\u001b[0m             handle,\n\u001b[1;32m    <a href='file:///Users/ethanspraggon/opt/miniconda3/envs/LyGen/lib/python3.9/site-packages/pandas/io/common.py?line=860'>861</a>\u001b[0m             ioargs\u001b[39m.\u001b[39;49mmode,\n\u001b[1;32m    <a href='file:///Users/ethanspraggon/opt/miniconda3/envs/LyGen/lib/python3.9/site-packages/pandas/io/common.py?line=861'>862</a>\u001b[0m             encoding\u001b[39m=\u001b[39;49mioargs\u001b[39m.\u001b[39;49mencoding,\n\u001b[1;32m    <a href='file:///Users/ethanspraggon/opt/miniconda3/envs/LyGen/lib/python3.9/site-packages/pandas/io/common.py?line=862'>863</a>\u001b[0m             errors\u001b[39m=\u001b[39;49merrors,\n\u001b[1;32m    <a href='file:///Users/ethanspraggon/opt/miniconda3/envs/LyGen/lib/python3.9/site-packages/pandas/io/common.py?line=863'>864</a>\u001b[0m             newline\u001b[39m=\u001b[39;49m\u001b[39m\"\u001b[39;49m\u001b[39m\"\u001b[39;49m,\n\u001b[1;32m    <a href='file:///Users/ethanspraggon/opt/miniconda3/envs/LyGen/lib/python3.9/site-packages/pandas/io/common.py?line=864'>865</a>\u001b[0m         )\n\u001b[1;32m    <a href='file:///Users/ethanspraggon/opt/miniconda3/envs/LyGen/lib/python3.9/site-packages/pandas/io/common.py?line=865'>866</a>\u001b[0m     \u001b[39melse\u001b[39;00m:\n\u001b[1;32m    <a href='file:///Users/ethanspraggon/opt/miniconda3/envs/LyGen/lib/python3.9/site-packages/pandas/io/common.py?line=866'>867</a>\u001b[0m         \u001b[39m# Binary mode\u001b[39;00m\n\u001b[1;32m    <a href='file:///Users/ethanspraggon/opt/miniconda3/envs/LyGen/lib/python3.9/site-packages/pandas/io/common.py?line=867'>868</a>\u001b[0m         handle \u001b[39m=\u001b[39m \u001b[39mopen\u001b[39m(handle, ioargs\u001b[39m.\u001b[39mmode)\n",
      "\u001b[0;31mFileNotFoundError\u001b[0m: [Errno 2] No such file or directory: '/kaggle/input/spotify-dataset-19212020-600k-tracks/tracks.csv'"
     ]
    }
   ],
   "source": [
    "spotify_tracks = pd.read_csv('/kaggle/input/spotify-dataset-19212020-600k-tracks/tracks.csv')\n",
    "spotify_tracks"
   ]
  },
  {
   "cell_type": "code",
   "execution_count": null,
   "metadata": {},
   "outputs": [],
   "source": [
    "spotify_tracks = spotify_tracks.drop_duplicates(\n",
    "  subset = ['name', 'artists'],\n",
    "  keep = 'last').reset_index(drop = True)\n",
    "spotify_tracks"
   ]
  },
  {
   "cell_type": "code",
   "execution_count": null,
   "metadata": {},
   "outputs": [],
   "source": [
    "artistname_list = [a.lower().replace(' ','') for a in artistname_list]\n",
    "songname_list = [a.lower().replace(\" \",'') for a in songname_list]\n"
   ]
  },
  {
   "cell_type": "code",
   "execution_count": null,
   "metadata": {},
   "outputs": [],
   "source": [
    "spotify_tracks['artists'] = [a.split(\",\")[0] for a in spotify_tracks['artists']]"
   ]
  },
  {
   "cell_type": "code",
   "execution_count": null,
   "metadata": {},
   "outputs": [],
   "source": [
    "spotify_tracks['artists'] = [a.lower().replace(' ','') for a in spotify_tracks['artists']]"
   ]
  },
  {
   "cell_type": "code",
   "execution_count": null,
   "metadata": {},
   "outputs": [],
   "source": [
    "spotify_tracks['artists'] = [a.replace(\"['\",'').replace(\"']\", '').replace(\"'\",'') for a in spotify_tracks['artists']]"
   ]
  },
  {
   "cell_type": "code",
   "execution_count": null,
   "metadata": {},
   "outputs": [],
   "source": [
    "spotify_tracks['name'] = [str(a).lower().replace(' ','') for a in spotify_tracks['name']]"
   ]
  },
  {
   "cell_type": "code",
   "execution_count": null,
   "metadata": {},
   "outputs": [],
   "source": [
    "spotify_tracks"
   ]
  },
  {
   "cell_type": "code",
   "execution_count": null,
   "metadata": {},
   "outputs": [],
   "source": [
    "spectro_df = pd.DataFrame(list(zip(artistname_list, songname_list, filename_list, dirname_list)),\n",
    "               columns =['artists', 'name', 'spectro_filename', 'directory'])"
   ]
  },
  {
   "cell_type": "code",
   "execution_count": null,
   "metadata": {},
   "outputs": [],
   "source": [
    "spectro_df"
   ]
  }
 ],
 "metadata": {
  "interpreter": {
   "hash": "f16c7c72fba24ac9d681f51ecda445c41c7563cc6f0055af1c67f962502cf36d"
  },
  "kernelspec": {
   "display_name": "Python 3.9.17 ('LyGen')",
   "language": "python",
   "name": "python3"
  },
  "language_info": {
   "codemirror_mode": {
    "name": "ipython",
    "version": 3
   },
   "file_extension": ".py",
   "mimetype": "text/x-python",
   "name": "python",
   "nbconvert_exporter": "python",
   "pygments_lexer": "ipython3",
   "version": "3.9.17"
  },
  "orig_nbformat": 4
 },
 "nbformat": 4,
 "nbformat_minor": 2
}
